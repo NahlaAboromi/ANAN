{
  "nbformat": 4,
  "nbformat_minor": 0,
  "metadata": {
    "colab": {
      "provenance": [],
      "authorship_tag": "ABX9TyNWyAZ42HJOPQUjvhz2cbsD",
      "include_colab_link": true
    },
    "kernelspec": {
      "name": "python3",
      "display_name": "Python 3"
    },
    "language_info": {
      "name": "python"
    },
    "widgets": {
      "application/vnd.jupyter.widget-state+json": {
        "728254521c064a899c30086d8df2550b": {
          "model_module": "@jupyter-widgets/controls",
          "model_name": "TabModel",
          "model_module_version": "1.5.0",
          "state": {
            "_dom_classes": [],
            "_model_module": "@jupyter-widgets/controls",
            "_model_module_version": "1.5.0",
            "_model_name": "TabModel",
            "_titles": {
              "0": "Tab 1: Data Overview",
              "1": "Tab 2: Raw Data",
              "2": "Tab 3: Charts"
            },
            "_view_count": null,
            "_view_module": "@jupyter-widgets/controls",
            "_view_module_version": "1.5.0",
            "_view_name": "TabView",
            "box_style": "",
            "children": [
              "IPY_MODEL_2326f2f19a494744aae60ea3f8003ad2",
              "IPY_MODEL_09368365125a4b1b88b929f628ce35e7",
              "IPY_MODEL_8fcba0cee9c14627b5e44fc4227fdfb1"
            ],
            "layout": "IPY_MODEL_f7d0431e2b37414c968da35d6325beea",
            "selected_index": 2
          }
        },
        "2326f2f19a494744aae60ea3f8003ad2": {
          "model_module": "@jupyter-widgets/output",
          "model_name": "OutputModel",
          "model_module_version": "1.0.0",
          "state": {
            "_dom_classes": [],
            "_model_module": "@jupyter-widgets/output",
            "_model_module_version": "1.0.0",
            "_model_name": "OutputModel",
            "_view_count": null,
            "_view_module": "@jupyter-widgets/output",
            "_view_module_version": "1.0.0",
            "_view_name": "OutputView",
            "layout": "IPY_MODEL_50695acd31804f2b8fd66f091da53957",
            "msg_id": "",
            "outputs": [
              {
                "output_type": "stream",
                "name": "stdout",
                "text": [
                  "Data Overview:\n"
                ]
              },
              {
                "output_type": "display_data",
                "data": {
                  "text/plain": "                _id  mispar_rechev    tozeret_cd      degem_cd  \\\ncount  32000.000000   3.200000e+04  32000.000000  32000.000000   \nmean   16000.500000   1.314576e+07    596.867031    475.701875   \nstd     9237.748643   1.856323e+07    259.427908    597.210795   \nmin        1.000000   1.000263e+06     19.000000      1.000000   \n25%     8000.750000   4.183946e+06    413.000000     75.000000   \n50%    16000.500000   6.806477e+06    588.000000    292.000000   \n75%    24000.250000   9.111006e+06    731.000000    651.000000   \nmax    32000.000000   9.255030e+07   1629.000000   8710.000000   \n\n       ramat_eivzur_betihuty  kvutzat_zihum  shnat_yitzur      tzeva_cd  \\\ncount            6090.000000   22692.000000  32000.000000  32000.000000   \nmean                3.929228      13.462322   2011.471937     43.422625   \nstd                 2.210714       3.562736      6.755698     27.556634   \nmin                 1.000000       1.000000   1996.000000      0.000000   \n25%                 2.000000      15.000000   2008.000000     25.000000   \n50%                 4.000000      15.000000   2009.000000     29.000000   \n75%                 6.000000      15.000000   2012.000000     80.000000   \nmax                 8.000000      15.000000   2025.000000     99.000000   \n\n       horaat_rishum  \ncount    7775.000000  \nmean   211421.831768  \nstd     39850.910749  \nmin     11095.000000  \n25%    200330.000000  \n50%    220223.000000  \n75%    240215.500000  \nmax    999998.000000  ",
                  "text/html": "\n  <div id=\"df-aa22780b-11c9-4d27-b212-a59d3b2949ac\" class=\"colab-df-container\">\n    <div>\n<style scoped>\n    .dataframe tbody tr th:only-of-type {\n        vertical-align: middle;\n    }\n\n    .dataframe tbody tr th {\n        vertical-align: top;\n    }\n\n    .dataframe thead th {\n        text-align: right;\n    }\n</style>\n<table border=\"1\" class=\"dataframe\">\n  <thead>\n    <tr style=\"text-align: right;\">\n      <th></th>\n      <th>_id</th>\n      <th>mispar_rechev</th>\n      <th>tozeret_cd</th>\n      <th>degem_cd</th>\n      <th>ramat_eivzur_betihuty</th>\n      <th>kvutzat_zihum</th>\n      <th>shnat_yitzur</th>\n      <th>tzeva_cd</th>\n      <th>horaat_rishum</th>\n    </tr>\n  </thead>\n  <tbody>\n    <tr>\n      <th>count</th>\n      <td>32000.000000</td>\n      <td>3.200000e+04</td>\n      <td>32000.000000</td>\n      <td>32000.000000</td>\n      <td>6090.000000</td>\n      <td>22692.000000</td>\n      <td>32000.000000</td>\n      <td>32000.000000</td>\n      <td>7775.000000</td>\n    </tr>\n    <tr>\n      <th>mean</th>\n      <td>16000.500000</td>\n      <td>1.314576e+07</td>\n      <td>596.867031</td>\n      <td>475.701875</td>\n      <td>3.929228</td>\n      <td>13.462322</td>\n      <td>2011.471937</td>\n      <td>43.422625</td>\n      <td>211421.831768</td>\n    </tr>\n    <tr>\n      <th>std</th>\n      <td>9237.748643</td>\n      <td>1.856323e+07</td>\n      <td>259.427908</td>\n      <td>597.210795</td>\n      <td>2.210714</td>\n      <td>3.562736</td>\n      <td>6.755698</td>\n      <td>27.556634</td>\n      <td>39850.910749</td>\n    </tr>\n    <tr>\n      <th>min</th>\n      <td>1.000000</td>\n      <td>1.000263e+06</td>\n      <td>19.000000</td>\n      <td>1.000000</td>\n      <td>1.000000</td>\n      <td>1.000000</td>\n      <td>1996.000000</td>\n      <td>0.000000</td>\n      <td>11095.000000</td>\n    </tr>\n    <tr>\n      <th>25%</th>\n      <td>8000.750000</td>\n      <td>4.183946e+06</td>\n      <td>413.000000</td>\n      <td>75.000000</td>\n      <td>2.000000</td>\n      <td>15.000000</td>\n      <td>2008.000000</td>\n      <td>25.000000</td>\n      <td>200330.000000</td>\n    </tr>\n    <tr>\n      <th>50%</th>\n      <td>16000.500000</td>\n      <td>6.806477e+06</td>\n      <td>588.000000</td>\n      <td>292.000000</td>\n      <td>4.000000</td>\n      <td>15.000000</td>\n      <td>2009.000000</td>\n      <td>29.000000</td>\n      <td>220223.000000</td>\n    </tr>\n    <tr>\n      <th>75%</th>\n      <td>24000.250000</td>\n      <td>9.111006e+06</td>\n      <td>731.000000</td>\n      <td>651.000000</td>\n      <td>6.000000</td>\n      <td>15.000000</td>\n      <td>2012.000000</td>\n      <td>80.000000</td>\n      <td>240215.500000</td>\n    </tr>\n    <tr>\n      <th>max</th>\n      <td>32000.000000</td>\n      <td>9.255030e+07</td>\n      <td>1629.000000</td>\n      <td>8710.000000</td>\n      <td>8.000000</td>\n      <td>15.000000</td>\n      <td>2025.000000</td>\n      <td>99.000000</td>\n      <td>999998.000000</td>\n    </tr>\n  </tbody>\n</table>\n</div>\n    <div class=\"colab-df-buttons\">\n\n  <div class=\"colab-df-container\">\n    <button class=\"colab-df-convert\" onclick=\"convertToInteractive('df-aa22780b-11c9-4d27-b212-a59d3b2949ac')\"\n            title=\"Convert this dataframe to an interactive table.\"\n            style=\"display:none;\">\n\n  <svg xmlns=\"http://www.w3.org/2000/svg\" height=\"24px\" viewBox=\"0 -960 960 960\">\n    <path d=\"M120-120v-720h720v720H120Zm60-500h600v-160H180v160Zm220 220h160v-160H400v160Zm0 220h160v-160H400v160ZM180-400h160v-160H180v160Zm440 0h160v-160H620v160ZM180-180h160v-160H180v160Zm440 0h160v-160H620v160Z\"/>\n  </svg>\n    </button>\n\n  <style>\n    .colab-df-container {\n      display:flex;\n      gap: 12px;\n    }\n\n    .colab-df-convert {\n      background-color: #E8F0FE;\n      border: none;\n      border-radius: 50%;\n      cursor: pointer;\n      display: none;\n      fill: #1967D2;\n      height: 32px;\n      padding: 0 0 0 0;\n      width: 32px;\n    }\n\n    .colab-df-convert:hover {\n      background-color: #E2EBFA;\n      box-shadow: 0px 1px 2px rgba(60, 64, 67, 0.3), 0px 1px 3px 1px rgba(60, 64, 67, 0.15);\n      fill: #174EA6;\n    }\n\n    .colab-df-buttons div {\n      margin-bottom: 4px;\n    }\n\n    [theme=dark] .colab-df-convert {\n      background-color: #3B4455;\n      fill: #D2E3FC;\n    }\n\n    [theme=dark] .colab-df-convert:hover {\n      background-color: #434B5C;\n      box-shadow: 0px 1px 3px 1px rgba(0, 0, 0, 0.15);\n      filter: drop-shadow(0px 1px 2px rgba(0, 0, 0, 0.3));\n      fill: #FFFFFF;\n    }\n  </style>\n\n    <script>\n      const buttonEl =\n        document.querySelector('#df-aa22780b-11c9-4d27-b212-a59d3b2949ac button.colab-df-convert');\n      buttonEl.style.display =\n        google.colab.kernel.accessAllowed ? 'block' : 'none';\n\n      async function convertToInteractive(key) {\n        const element = document.querySelector('#df-aa22780b-11c9-4d27-b212-a59d3b2949ac');\n        const dataTable =\n          await google.colab.kernel.invokeFunction('convertToInteractive',\n                                                    [key], {});\n        if (!dataTable) return;\n\n        const docLinkHtml = 'Like what you see? Visit the ' +\n          '<a target=\"_blank\" href=https://colab.research.google.com/notebooks/data_table.ipynb>data table notebook</a>'\n          + ' to learn more about interactive tables.';\n        element.innerHTML = '';\n        dataTable['output_type'] = 'display_data';\n        await google.colab.output.renderOutput(dataTable, element);\n        const docLink = document.createElement('div');\n        docLink.innerHTML = docLinkHtml;\n        element.appendChild(docLink);\n      }\n    </script>\n  </div>\n\n\n<div id=\"df-d54c7de2-353d-494d-aad4-f272d4ea5ac3\">\n  <button class=\"colab-df-quickchart\" onclick=\"quickchart('df-d54c7de2-353d-494d-aad4-f272d4ea5ac3')\"\n            title=\"Suggest charts\"\n            style=\"display:none;\">\n\n<svg xmlns=\"http://www.w3.org/2000/svg\" height=\"24px\"viewBox=\"0 0 24 24\"\n     width=\"24px\">\n    <g>\n        <path d=\"M19 3H5c-1.1 0-2 .9-2 2v14c0 1.1.9 2 2 2h14c1.1 0 2-.9 2-2V5c0-1.1-.9-2-2-2zM9 17H7v-7h2v7zm4 0h-2V7h2v10zm4 0h-2v-4h2v4z\"/>\n    </g>\n</svg>\n  </button>\n\n<style>\n  .colab-df-quickchart {\n      --bg-color: #E8F0FE;\n      --fill-color: #1967D2;\n      --hover-bg-color: #E2EBFA;\n      --hover-fill-color: #174EA6;\n      --disabled-fill-color: #AAA;\n      --disabled-bg-color: #DDD;\n  }\n\n  [theme=dark] .colab-df-quickchart {\n      --bg-color: #3B4455;\n      --fill-color: #D2E3FC;\n      --hover-bg-color: #434B5C;\n      --hover-fill-color: #FFFFFF;\n      --disabled-bg-color: #3B4455;\n      --disabled-fill-color: #666;\n  }\n\n  .colab-df-quickchart {\n    background-color: var(--bg-color);\n    border: none;\n    border-radius: 50%;\n    cursor: pointer;\n    display: none;\n    fill: var(--fill-color);\n    height: 32px;\n    padding: 0;\n    width: 32px;\n  }\n\n  .colab-df-quickchart:hover {\n    background-color: var(--hover-bg-color);\n    box-shadow: 0 1px 2px rgba(60, 64, 67, 0.3), 0 1px 3px 1px rgba(60, 64, 67, 0.15);\n    fill: var(--button-hover-fill-color);\n  }\n\n  .colab-df-quickchart-complete:disabled,\n  .colab-df-quickchart-complete:disabled:hover {\n    background-color: var(--disabled-bg-color);\n    fill: var(--disabled-fill-color);\n    box-shadow: none;\n  }\n\n  .colab-df-spinner {\n    border: 2px solid var(--fill-color);\n    border-color: transparent;\n    border-bottom-color: var(--fill-color);\n    animation:\n      spin 1s steps(1) infinite;\n  }\n\n  @keyframes spin {\n    0% {\n      border-color: transparent;\n      border-bottom-color: var(--fill-color);\n      border-left-color: var(--fill-color);\n    }\n    20% {\n      border-color: transparent;\n      border-left-color: var(--fill-color);\n      border-top-color: var(--fill-color);\n    }\n    30% {\n      border-color: transparent;\n      border-left-color: var(--fill-color);\n      border-top-color: var(--fill-color);\n      border-right-color: var(--fill-color);\n    }\n    40% {\n      border-color: transparent;\n      border-right-color: var(--fill-color);\n      border-top-color: var(--fill-color);\n    }\n    60% {\n      border-color: transparent;\n      border-right-color: var(--fill-color);\n    }\n    80% {\n      border-color: transparent;\n      border-right-color: var(--fill-color);\n      border-bottom-color: var(--fill-color);\n    }\n    90% {\n      border-color: transparent;\n      border-bottom-color: var(--fill-color);\n    }\n  }\n</style>\n\n  <script>\n    async function quickchart(key) {\n      const quickchartButtonEl =\n        document.querySelector('#' + key + ' button');\n      quickchartButtonEl.disabled = true;  // To prevent multiple clicks.\n      quickchartButtonEl.classList.add('colab-df-spinner');\n      try {\n        const charts = await google.colab.kernel.invokeFunction(\n            'suggestCharts', [key], {});\n      } catch (error) {\n        console.error('Error during call to suggestCharts:', error);\n      }\n      quickchartButtonEl.classList.remove('colab-df-spinner');\n      quickchartButtonEl.classList.add('colab-df-quickchart-complete');\n    }\n    (() => {\n      let quickchartButtonEl =\n        document.querySelector('#df-d54c7de2-353d-494d-aad4-f272d4ea5ac3 button');\n      quickchartButtonEl.style.display =\n        google.colab.kernel.accessAllowed ? 'block' : 'none';\n    })();\n  </script>\n</div>\n\n    </div>\n  </div>\n",
                  "application/vnd.google.colaboratory.intrinsic+json": {
                    "type": "dataframe",
                    "summary": "{\n  \"name\": \"display(tabs)\",\n  \"rows\": 8,\n  \"fields\": [\n    {\n      \"column\": \"_id\",\n      \"properties\": {\n        \"dtype\": \"number\",\n        \"std\": 11532.650024401897,\n        \"min\": 1.0,\n        \"max\": 32000.0,\n        \"num_unique_values\": 6,\n        \"samples\": [\n          32000.0,\n          16000.5,\n          24000.25\n        ],\n        \"semantic_type\": \"\",\n        \"description\": \"\"\n      }\n    },\n    {\n      \"column\": \"mispar_rechev\",\n      \"properties\": {\n        \"dtype\": \"number\",\n        \"std\": 30679025.653498575,\n        \"min\": 32000.0,\n        \"max\": 92550301.0,\n        \"num_unique_values\": 8,\n        \"samples\": [\n          13145761.71009375,\n          6806477.0,\n          32000.0\n        ],\n        \"semantic_type\": \"\",\n        \"description\": \"\"\n      }\n    },\n    {\n      \"column\": \"tozeret_cd\",\n      \"properties\": {\n        \"dtype\": \"number\",\n        \"std\": 11109.806448249426,\n        \"min\": 19.0,\n        \"max\": 32000.0,\n        \"num_unique_values\": 8,\n        \"samples\": [\n          596.86703125,\n          588.0,\n          32000.0\n        ],\n        \"semantic_type\": \"\",\n        \"description\": \"\"\n      }\n    },\n    {\n      \"column\": \"degem_cd\",\n      \"properties\": {\n        \"dtype\": \"number\",\n        \"std\": 11160.909320227707,\n        \"min\": 1.0,\n        \"max\": 32000.0,\n        \"num_unique_values\": 8,\n        \"samples\": [\n          475.701875,\n          292.0,\n          32000.0\n        ],\n        \"semantic_type\": \"\",\n        \"description\": \"\"\n      }\n    },\n    {\n      \"column\": \"ramat_eivzur_betihuty\",\n      \"properties\": {\n        \"dtype\": \"number\",\n        \"std\": 2151.7705730182875,\n        \"min\": 1.0,\n        \"max\": 6090.0,\n        \"num_unique_values\": 8,\n        \"samples\": [\n          3.9292282430213463,\n          4.0,\n          6090.0\n        ],\n        \"semantic_type\": \"\",\n        \"description\": \"\"\n      }\n    },\n    {\n      \"column\": \"kvutzat_zihum\",\n      \"properties\": {\n        \"dtype\": \"number\",\n        \"std\": 8018.894685051581,\n        \"min\": 1.0,\n        \"max\": 22692.0,\n        \"num_unique_values\": 5,\n        \"samples\": [\n          13.462321523003702,\n          15.0,\n          3.5627355639836513\n        ],\n        \"semantic_type\": \"\",\n        \"description\": \"\"\n      }\n    },\n    {\n      \"column\": \"shnat_yitzur\",\n      \"properties\": {\n        \"dtype\": \"number\",\n        \"std\": 10727.107912277172,\n        \"min\": 6.7556976863199685,\n        \"max\": 32000.0,\n        \"num_unique_values\": 8,\n        \"samples\": [\n          2011.4719375,\n          2009.0,\n          32000.0\n        ],\n        \"semantic_type\": \"\",\n        \"description\": \"\"\n      }\n    },\n    {\n      \"column\": \"tzeva_cd\",\n      \"properties\": {\n        \"dtype\": \"number\",\n        \"std\": 11298.400186371759,\n        \"min\": 0.0,\n        \"max\": 32000.0,\n        \"num_unique_values\": 8,\n        \"samples\": [\n          43.422625,\n          29.0,\n          32000.0\n        ],\n        \"semantic_type\": \"\",\n        \"description\": \"\"\n      }\n    },\n    {\n      \"column\": \"horaat_rishum\",\n      \"properties\": {\n        \"dtype\": \"number\",\n        \"std\": 322213.16987896117,\n        \"min\": 7775.0,\n        \"max\": 999998.0,\n        \"num_unique_values\": 8,\n        \"samples\": [\n          211421.83176848874,\n          220223.0,\n          7775.0\n        ],\n        \"semantic_type\": \"\",\n        \"description\": \"\"\n      }\n    }\n  ]\n}"
                  }
                },
                "metadata": {}
              }
            ]
          }
        },
        "09368365125a4b1b88b929f628ce35e7": {
          "model_module": "@jupyter-widgets/output",
          "model_name": "OutputModel",
          "model_module_version": "1.0.0",
          "state": {
            "_dom_classes": [],
            "_model_module": "@jupyter-widgets/output",
            "_model_module_version": "1.0.0",
            "_model_name": "OutputModel",
            "_view_count": null,
            "_view_module": "@jupyter-widgets/output",
            "_view_module_version": "1.0.0",
            "_view_name": "OutputView",
            "layout": "IPY_MODEL_64f1dd229e6946869435bcabe5dea8c5",
            "msg_id": "",
            "outputs": [
              {
                "output_type": "stream",
                "name": "stdout",
                "text": [
                  "Raw Data:\n"
                ]
              },
              {
                "output_type": "display_data",
                "data": {
                  "text/plain": "         _id  mispar_rechev  tozeret_cd sug_degem     tozeret_nm  degem_cd  \\\n0          1        2759880         676         P    סקודה צ'כיה       548   \n1          2       66226201         676         P    סקודה צ'כיה       908   \n2          3        2489538         676         P    סקודה צ'כיה       516   \n3          4       50272902         885         P     קיה קוריאה       514   \n4          5       50685801         845         P  יונדאי טורקיה        56   \n...      ...            ...         ...       ...            ...       ...   \n31995  31996        4971475         730         P    פורד גרמניה         6   \n31996  31997        6443770         312         P      הונדה-יפן       871   \n31997  31998        1979764         588         P       מזדה יפן       282   \n31998  31999        6230316         143         P  ב מ וו גרמניה      1061   \n31999  32000        7161558         650         P     סובארו יפן       181   \n\n      degem_nm ramat_gimur  ramat_eivzur_betihuty  kvutzat_zihum  \\\n0       NH33RD    AMBITION                    NaN           14.0   \n1       5E33ND    AMBITION                    NaN           14.0   \n2       5E33FD    AMBITION                    NaN           14.0   \n3       CB81CG       URBAN                    2.0            4.0   \n4        A751C       PRIME                    NaN           14.0   \n...        ...         ...                    ...            ...   \n31995      DYB       TREND                    NaN           15.0   \n31996     ZE28    ELEGANCE                    NaN            7.0   \n31997    CR19F           S                    NaN            NaN   \n31998     NU91                                NaN           15.0   \n31999  GD9EL5R          GX                    NaN            NaN   \n\n       shnat_yitzur degem_manoa mivchan_acharon_dt    tokef_dt baalut  \\\n0              2017         CZC         2024-05-28  2025-02-18   פרטי   \n1              2019         DAD         2024-03-03  2025-02-18   פרטי   \n2              2016         CYV         2024-02-25  2025-02-24   פרטי   \n3              2021        G4LE         2025-04-12  2026-04-17   פרטי   \n4              2018        G4LA         2025-04-11  2026-04-14   פרטי   \n...             ...         ...                ...         ...    ...   \n31995          2012        PNDA         2025-03-14  2026-03-20   פרטי   \n31996          2010        LDA3         2024-08-11  2025-07-04   פרטי   \n31997          2008          LF         2024-12-08  2025-10-08   פרטי   \n31998          2010    N52B30AF         2024-01-11  2025-01-04   פרטי   \n31999          2006       EJ 20         2023-08-26  2024-06-21   פרטי   \n\n                  misgeret  tzeva_cd   tzeva_rechev  zmig_kidmi  zmig_ahori  \\\n0        TMBAT6NH8G4029567        29       כסף מטלי  185/60 R15  185/60 R15   \n1        TMBAR7NE7K0127449        29       כסף מטלי  R16 205/55  R16 205/55   \n2        TMBAB7NE2G0167997        29       כסף מטלי  205/55 R16  205/55 R16   \n3        KNACB81CGM5444575        50           אדום   205/60R16   205/60R16   \n4        NLHA751CBJZ429963        80       שנהב לבן   175/65R14   175/65R14   \n...                    ...       ...            ...         ...         ...   \n31995    WF0MXXGCBMBM09560        80       שנהב לבן   205/55R16   205/55R16   \n31996    JHMZE2870AS216412        11      שחור מטלי   185/55R16   185/55R16   \n31997   JMZCR19F5-80217656        26         פלטינה   205/55R16   205/55R16   \n31998  WBANU9107A  CT29434         6  אפור כהה מטלי   225/50R17   225/50R17   \n31999    JF1GD9LR56G451487        32      כחול בהיר  215/45/R17   215/45R17   \n\n      sug_delek_nm  horaat_rishum moed_aliya_lakvish   kinuy_mishari  \n0            בנזין       160117.0             2017-2           RAPID  \n1            בנזין       180301.0             2019-2         OCTAVIA  \n2            בנזין       160116.0             2016-2         OCTAVIA  \n3            בנזין       200153.0             2021-4            NIRO  \n4            בנזין       170001.0             2018-4             I10  \n...            ...            ...                ...             ...  \n31995        בנזין            NaN             2012-3           FOCUS  \n31996        בנזין            NaN             2010-7  INSIGHT HYBRID  \n31997        בנזין            NaN               None         MAZDA 5  \n31998        בנזין            NaN             2010-1            530I  \n31999        בנזין            NaN               None         IMPREZA  \n\n[32000 rows x 24 columns]",
                  "text/html": "\n  <div id=\"df-b9045985-825a-4ccc-9f08-f9aac31f1026\" class=\"colab-df-container\">\n    <div>\n<style scoped>\n    .dataframe tbody tr th:only-of-type {\n        vertical-align: middle;\n    }\n\n    .dataframe tbody tr th {\n        vertical-align: top;\n    }\n\n    .dataframe thead th {\n        text-align: right;\n    }\n</style>\n<table border=\"1\" class=\"dataframe\">\n  <thead>\n    <tr style=\"text-align: right;\">\n      <th></th>\n      <th>_id</th>\n      <th>mispar_rechev</th>\n      <th>tozeret_cd</th>\n      <th>sug_degem</th>\n      <th>tozeret_nm</th>\n      <th>degem_cd</th>\n      <th>degem_nm</th>\n      <th>ramat_gimur</th>\n      <th>ramat_eivzur_betihuty</th>\n      <th>kvutzat_zihum</th>\n      <th>shnat_yitzur</th>\n      <th>degem_manoa</th>\n      <th>mivchan_acharon_dt</th>\n      <th>tokef_dt</th>\n      <th>baalut</th>\n      <th>misgeret</th>\n      <th>tzeva_cd</th>\n      <th>tzeva_rechev</th>\n      <th>zmig_kidmi</th>\n      <th>zmig_ahori</th>\n      <th>sug_delek_nm</th>\n      <th>horaat_rishum</th>\n      <th>moed_aliya_lakvish</th>\n      <th>kinuy_mishari</th>\n    </tr>\n  </thead>\n  <tbody>\n    <tr>\n      <th>0</th>\n      <td>1</td>\n      <td>2759880</td>\n      <td>676</td>\n      <td>P</td>\n      <td>סקודה צ'כיה</td>\n      <td>548</td>\n      <td>NH33RD</td>\n      <td>AMBITION</td>\n      <td>NaN</td>\n      <td>14.0</td>\n      <td>2017</td>\n      <td>CZC</td>\n      <td>2024-05-28</td>\n      <td>2025-02-18</td>\n      <td>פרטי</td>\n      <td>TMBAT6NH8G4029567</td>\n      <td>29</td>\n      <td>כסף מטלי</td>\n      <td>185/60 R15</td>\n      <td>185/60 R15</td>\n      <td>בנזין</td>\n      <td>160117.0</td>\n      <td>2017-2</td>\n      <td>RAPID</td>\n    </tr>\n    <tr>\n      <th>1</th>\n      <td>2</td>\n      <td>66226201</td>\n      <td>676</td>\n      <td>P</td>\n      <td>סקודה צ'כיה</td>\n      <td>908</td>\n      <td>5E33ND</td>\n      <td>AMBITION</td>\n      <td>NaN</td>\n      <td>14.0</td>\n      <td>2019</td>\n      <td>DAD</td>\n      <td>2024-03-03</td>\n      <td>2025-02-18</td>\n      <td>פרטי</td>\n      <td>TMBAR7NE7K0127449</td>\n      <td>29</td>\n      <td>כסף מטלי</td>\n      <td>R16 205/55</td>\n      <td>R16 205/55</td>\n      <td>בנזין</td>\n      <td>180301.0</td>\n      <td>2019-2</td>\n      <td>OCTAVIA</td>\n    </tr>\n    <tr>\n      <th>2</th>\n      <td>3</td>\n      <td>2489538</td>\n      <td>676</td>\n      <td>P</td>\n      <td>סקודה צ'כיה</td>\n      <td>516</td>\n      <td>5E33FD</td>\n      <td>AMBITION</td>\n      <td>NaN</td>\n      <td>14.0</td>\n      <td>2016</td>\n      <td>CYV</td>\n      <td>2024-02-25</td>\n      <td>2025-02-24</td>\n      <td>פרטי</td>\n      <td>TMBAB7NE2G0167997</td>\n      <td>29</td>\n      <td>כסף מטלי</td>\n      <td>205/55 R16</td>\n      <td>205/55 R16</td>\n      <td>בנזין</td>\n      <td>160116.0</td>\n      <td>2016-2</td>\n      <td>OCTAVIA</td>\n    </tr>\n    <tr>\n      <th>3</th>\n      <td>4</td>\n      <td>50272902</td>\n      <td>885</td>\n      <td>P</td>\n      <td>קיה קוריאה</td>\n      <td>514</td>\n      <td>CB81CG</td>\n      <td>URBAN</td>\n      <td>2.0</td>\n      <td>4.0</td>\n      <td>2021</td>\n      <td>G4LE</td>\n      <td>2025-04-12</td>\n      <td>2026-04-17</td>\n      <td>פרטי</td>\n      <td>KNACB81CGM5444575</td>\n      <td>50</td>\n      <td>אדום</td>\n      <td>205/60R16</td>\n      <td>205/60R16</td>\n      <td>בנזין</td>\n      <td>200153.0</td>\n      <td>2021-4</td>\n      <td>NIRO</td>\n    </tr>\n    <tr>\n      <th>4</th>\n      <td>5</td>\n      <td>50685801</td>\n      <td>845</td>\n      <td>P</td>\n      <td>יונדאי טורקיה</td>\n      <td>56</td>\n      <td>A751C</td>\n      <td>PRIME</td>\n      <td>NaN</td>\n      <td>14.0</td>\n      <td>2018</td>\n      <td>G4LA</td>\n      <td>2025-04-11</td>\n      <td>2026-04-14</td>\n      <td>פרטי</td>\n      <td>NLHA751CBJZ429963</td>\n      <td>80</td>\n      <td>שנהב לבן</td>\n      <td>175/65R14</td>\n      <td>175/65R14</td>\n      <td>בנזין</td>\n      <td>170001.0</td>\n      <td>2018-4</td>\n      <td>I10</td>\n    </tr>\n    <tr>\n      <th>...</th>\n      <td>...</td>\n      <td>...</td>\n      <td>...</td>\n      <td>...</td>\n      <td>...</td>\n      <td>...</td>\n      <td>...</td>\n      <td>...</td>\n      <td>...</td>\n      <td>...</td>\n      <td>...</td>\n      <td>...</td>\n      <td>...</td>\n      <td>...</td>\n      <td>...</td>\n      <td>...</td>\n      <td>...</td>\n      <td>...</td>\n      <td>...</td>\n      <td>...</td>\n      <td>...</td>\n      <td>...</td>\n      <td>...</td>\n      <td>...</td>\n    </tr>\n    <tr>\n      <th>31995</th>\n      <td>31996</td>\n      <td>4971475</td>\n      <td>730</td>\n      <td>P</td>\n      <td>פורד גרמניה</td>\n      <td>6</td>\n      <td>DYB</td>\n      <td>TREND</td>\n      <td>NaN</td>\n      <td>15.0</td>\n      <td>2012</td>\n      <td>PNDA</td>\n      <td>2025-03-14</td>\n      <td>2026-03-20</td>\n      <td>פרטי</td>\n      <td>WF0MXXGCBMBM09560</td>\n      <td>80</td>\n      <td>שנהב לבן</td>\n      <td>205/55R16</td>\n      <td>205/55R16</td>\n      <td>בנזין</td>\n      <td>NaN</td>\n      <td>2012-3</td>\n      <td>FOCUS</td>\n    </tr>\n    <tr>\n      <th>31996</th>\n      <td>31997</td>\n      <td>6443770</td>\n      <td>312</td>\n      <td>P</td>\n      <td>הונדה-יפן</td>\n      <td>871</td>\n      <td>ZE28</td>\n      <td>ELEGANCE</td>\n      <td>NaN</td>\n      <td>7.0</td>\n      <td>2010</td>\n      <td>LDA3</td>\n      <td>2024-08-11</td>\n      <td>2025-07-04</td>\n      <td>פרטי</td>\n      <td>JHMZE2870AS216412</td>\n      <td>11</td>\n      <td>שחור מטלי</td>\n      <td>185/55R16</td>\n      <td>185/55R16</td>\n      <td>בנזין</td>\n      <td>NaN</td>\n      <td>2010-7</td>\n      <td>INSIGHT HYBRID</td>\n    </tr>\n    <tr>\n      <th>31997</th>\n      <td>31998</td>\n      <td>1979764</td>\n      <td>588</td>\n      <td>P</td>\n      <td>מזדה יפן</td>\n      <td>282</td>\n      <td>CR19F</td>\n      <td>S</td>\n      <td>NaN</td>\n      <td>NaN</td>\n      <td>2008</td>\n      <td>LF</td>\n      <td>2024-12-08</td>\n      <td>2025-10-08</td>\n      <td>פרטי</td>\n      <td>JMZCR19F5-80217656</td>\n      <td>26</td>\n      <td>פלטינה</td>\n      <td>205/55R16</td>\n      <td>205/55R16</td>\n      <td>בנזין</td>\n      <td>NaN</td>\n      <td>None</td>\n      <td>MAZDA 5</td>\n    </tr>\n    <tr>\n      <th>31998</th>\n      <td>31999</td>\n      <td>6230316</td>\n      <td>143</td>\n      <td>P</td>\n      <td>ב מ וו גרמניה</td>\n      <td>1061</td>\n      <td>NU91</td>\n      <td></td>\n      <td>NaN</td>\n      <td>15.0</td>\n      <td>2010</td>\n      <td>N52B30AF</td>\n      <td>2024-01-11</td>\n      <td>2025-01-04</td>\n      <td>פרטי</td>\n      <td>WBANU9107A  CT29434</td>\n      <td>6</td>\n      <td>אפור כהה מטלי</td>\n      <td>225/50R17</td>\n      <td>225/50R17</td>\n      <td>בנזין</td>\n      <td>NaN</td>\n      <td>2010-1</td>\n      <td>530I</td>\n    </tr>\n    <tr>\n      <th>31999</th>\n      <td>32000</td>\n      <td>7161558</td>\n      <td>650</td>\n      <td>P</td>\n      <td>סובארו יפן</td>\n      <td>181</td>\n      <td>GD9EL5R</td>\n      <td>GX</td>\n      <td>NaN</td>\n      <td>NaN</td>\n      <td>2006</td>\n      <td>EJ 20</td>\n      <td>2023-08-26</td>\n      <td>2024-06-21</td>\n      <td>פרטי</td>\n      <td>JF1GD9LR56G451487</td>\n      <td>32</td>\n      <td>כחול בהיר</td>\n      <td>215/45/R17</td>\n      <td>215/45R17</td>\n      <td>בנזין</td>\n      <td>NaN</td>\n      <td>None</td>\n      <td>IMPREZA</td>\n    </tr>\n  </tbody>\n</table>\n<p>32000 rows × 24 columns</p>\n</div>\n    <div class=\"colab-df-buttons\">\n\n  <div class=\"colab-df-container\">\n    <button class=\"colab-df-convert\" onclick=\"convertToInteractive('df-b9045985-825a-4ccc-9f08-f9aac31f1026')\"\n            title=\"Convert this dataframe to an interactive table.\"\n            style=\"display:none;\">\n\n  <svg xmlns=\"http://www.w3.org/2000/svg\" height=\"24px\" viewBox=\"0 -960 960 960\">\n    <path d=\"M120-120v-720h720v720H120Zm60-500h600v-160H180v160Zm220 220h160v-160H400v160Zm0 220h160v-160H400v160ZM180-400h160v-160H180v160Zm440 0h160v-160H620v160ZM180-180h160v-160H180v160Zm440 0h160v-160H620v160Z\"/>\n  </svg>\n    </button>\n\n  <style>\n    .colab-df-container {\n      display:flex;\n      gap: 12px;\n    }\n\n    .colab-df-convert {\n      background-color: #E8F0FE;\n      border: none;\n      border-radius: 50%;\n      cursor: pointer;\n      display: none;\n      fill: #1967D2;\n      height: 32px;\n      padding: 0 0 0 0;\n      width: 32px;\n    }\n\n    .colab-df-convert:hover {\n      background-color: #E2EBFA;\n      box-shadow: 0px 1px 2px rgba(60, 64, 67, 0.3), 0px 1px 3px 1px rgba(60, 64, 67, 0.15);\n      fill: #174EA6;\n    }\n\n    .colab-df-buttons div {\n      margin-bottom: 4px;\n    }\n\n    [theme=dark] .colab-df-convert {\n      background-color: #3B4455;\n      fill: #D2E3FC;\n    }\n\n    [theme=dark] .colab-df-convert:hover {\n      background-color: #434B5C;\n      box-shadow: 0px 1px 3px 1px rgba(0, 0, 0, 0.15);\n      filter: drop-shadow(0px 1px 2px rgba(0, 0, 0, 0.3));\n      fill: #FFFFFF;\n    }\n  </style>\n\n    <script>\n      const buttonEl =\n        document.querySelector('#df-b9045985-825a-4ccc-9f08-f9aac31f1026 button.colab-df-convert');\n      buttonEl.style.display =\n        google.colab.kernel.accessAllowed ? 'block' : 'none';\n\n      async function convertToInteractive(key) {\n        const element = document.querySelector('#df-b9045985-825a-4ccc-9f08-f9aac31f1026');\n        const dataTable =\n          await google.colab.kernel.invokeFunction('convertToInteractive',\n                                                    [key], {});\n        if (!dataTable) return;\n\n        const docLinkHtml = 'Like what you see? Visit the ' +\n          '<a target=\"_blank\" href=https://colab.research.google.com/notebooks/data_table.ipynb>data table notebook</a>'\n          + ' to learn more about interactive tables.';\n        element.innerHTML = '';\n        dataTable['output_type'] = 'display_data';\n        await google.colab.output.renderOutput(dataTable, element);\n        const docLink = document.createElement('div');\n        docLink.innerHTML = docLinkHtml;\n        element.appendChild(docLink);\n      }\n    </script>\n  </div>\n\n\n<div id=\"df-6712d161-cc2b-4211-8dda-d4b55d8ac26e\">\n  <button class=\"colab-df-quickchart\" onclick=\"quickchart('df-6712d161-cc2b-4211-8dda-d4b55d8ac26e')\"\n            title=\"Suggest charts\"\n            style=\"display:none;\">\n\n<svg xmlns=\"http://www.w3.org/2000/svg\" height=\"24px\"viewBox=\"0 0 24 24\"\n     width=\"24px\">\n    <g>\n        <path d=\"M19 3H5c-1.1 0-2 .9-2 2v14c0 1.1.9 2 2 2h14c1.1 0 2-.9 2-2V5c0-1.1-.9-2-2-2zM9 17H7v-7h2v7zm4 0h-2V7h2v10zm4 0h-2v-4h2v4z\"/>\n    </g>\n</svg>\n  </button>\n\n<style>\n  .colab-df-quickchart {\n      --bg-color: #E8F0FE;\n      --fill-color: #1967D2;\n      --hover-bg-color: #E2EBFA;\n      --hover-fill-color: #174EA6;\n      --disabled-fill-color: #AAA;\n      --disabled-bg-color: #DDD;\n  }\n\n  [theme=dark] .colab-df-quickchart {\n      --bg-color: #3B4455;\n      --fill-color: #D2E3FC;\n      --hover-bg-color: #434B5C;\n      --hover-fill-color: #FFFFFF;\n      --disabled-bg-color: #3B4455;\n      --disabled-fill-color: #666;\n  }\n\n  .colab-df-quickchart {\n    background-color: var(--bg-color);\n    border: none;\n    border-radius: 50%;\n    cursor: pointer;\n    display: none;\n    fill: var(--fill-color);\n    height: 32px;\n    padding: 0;\n    width: 32px;\n  }\n\n  .colab-df-quickchart:hover {\n    background-color: var(--hover-bg-color);\n    box-shadow: 0 1px 2px rgba(60, 64, 67, 0.3), 0 1px 3px 1px rgba(60, 64, 67, 0.15);\n    fill: var(--button-hover-fill-color);\n  }\n\n  .colab-df-quickchart-complete:disabled,\n  .colab-df-quickchart-complete:disabled:hover {\n    background-color: var(--disabled-bg-color);\n    fill: var(--disabled-fill-color);\n    box-shadow: none;\n  }\n\n  .colab-df-spinner {\n    border: 2px solid var(--fill-color);\n    border-color: transparent;\n    border-bottom-color: var(--fill-color);\n    animation:\n      spin 1s steps(1) infinite;\n  }\n\n  @keyframes spin {\n    0% {\n      border-color: transparent;\n      border-bottom-color: var(--fill-color);\n      border-left-color: var(--fill-color);\n    }\n    20% {\n      border-color: transparent;\n      border-left-color: var(--fill-color);\n      border-top-color: var(--fill-color);\n    }\n    30% {\n      border-color: transparent;\n      border-left-color: var(--fill-color);\n      border-top-color: var(--fill-color);\n      border-right-color: var(--fill-color);\n    }\n    40% {\n      border-color: transparent;\n      border-right-color: var(--fill-color);\n      border-top-color: var(--fill-color);\n    }\n    60% {\n      border-color: transparent;\n      border-right-color: var(--fill-color);\n    }\n    80% {\n      border-color: transparent;\n      border-right-color: var(--fill-color);\n      border-bottom-color: var(--fill-color);\n    }\n    90% {\n      border-color: transparent;\n      border-bottom-color: var(--fill-color);\n    }\n  }\n</style>\n\n  <script>\n    async function quickchart(key) {\n      const quickchartButtonEl =\n        document.querySelector('#' + key + ' button');\n      quickchartButtonEl.disabled = true;  // To prevent multiple clicks.\n      quickchartButtonEl.classList.add('colab-df-spinner');\n      try {\n        const charts = await google.colab.kernel.invokeFunction(\n            'suggestCharts', [key], {});\n      } catch (error) {\n        console.error('Error during call to suggestCharts:', error);\n      }\n      quickchartButtonEl.classList.remove('colab-df-spinner');\n      quickchartButtonEl.classList.add('colab-df-quickchart-complete');\n    }\n    (() => {\n      let quickchartButtonEl =\n        document.querySelector('#df-6712d161-cc2b-4211-8dda-d4b55d8ac26e button');\n      quickchartButtonEl.style.display =\n        google.colab.kernel.accessAllowed ? 'block' : 'none';\n    })();\n  </script>\n</div>\n\n  <div id=\"id_b173a3c9-6996-4662-9e3c-75bb1305115b\">\n    <style>\n      .colab-df-generate {\n        background-color: #E8F0FE;\n        border: none;\n        border-radius: 50%;\n        cursor: pointer;\n        display: none;\n        fill: #1967D2;\n        height: 32px;\n        padding: 0 0 0 0;\n        width: 32px;\n      }\n\n      .colab-df-generate:hover {\n        background-color: #E2EBFA;\n        box-shadow: 0px 1px 2px rgba(60, 64, 67, 0.3), 0px 1px 3px 1px rgba(60, 64, 67, 0.15);\n        fill: #174EA6;\n      }\n\n      [theme=dark] .colab-df-generate {\n        background-color: #3B4455;\n        fill: #D2E3FC;\n      }\n\n      [theme=dark] .colab-df-generate:hover {\n        background-color: #434B5C;\n        box-shadow: 0px 1px 3px 1px rgba(0, 0, 0, 0.15);\n        filter: drop-shadow(0px 1px 2px rgba(0, 0, 0, 0.3));\n        fill: #FFFFFF;\n      }\n    </style>\n    <button class=\"colab-df-generate\" onclick=\"generateWithVariable('df')\"\n            title=\"Generate code using this dataframe.\"\n            style=\"display:none;\">\n\n  <svg xmlns=\"http://www.w3.org/2000/svg\" height=\"24px\"viewBox=\"0 0 24 24\"\n       width=\"24px\">\n    <path d=\"M7,19H8.4L18.45,9,17,7.55,7,17.6ZM5,21V16.75L18.45,3.32a2,2,0,0,1,2.83,0l1.4,1.43a1.91,1.91,0,0,1,.58,1.4,1.91,1.91,0,0,1-.58,1.4L9.25,21ZM18.45,9,17,7.55Zm-12,3A5.31,5.31,0,0,0,4.9,8.1,5.31,5.31,0,0,0,1,6.5,5.31,5.31,0,0,0,4.9,4.9,5.31,5.31,0,0,0,6.5,1,5.31,5.31,0,0,0,8.1,4.9,5.31,5.31,0,0,0,12,6.5,5.46,5.46,0,0,0,6.5,12Z\"/>\n  </svg>\n    </button>\n    <script>\n      (() => {\n      const buttonEl =\n        document.querySelector('#id_b173a3c9-6996-4662-9e3c-75bb1305115b button.colab-df-generate');\n      buttonEl.style.display =\n        google.colab.kernel.accessAllowed ? 'block' : 'none';\n\n      buttonEl.onclick = () => {\n        google.colab.notebook.generateWithVariable('df');\n      }\n      })();\n    </script>\n  </div>\n\n    </div>\n  </div>\n",
                  "application/vnd.google.colaboratory.intrinsic+json": {
                    "type": "dataframe",
                    "variable_name": "df"
                  }
                },
                "metadata": {}
              }
            ]
          }
        },
        "8fcba0cee9c14627b5e44fc4227fdfb1": {
          "model_module": "@jupyter-widgets/output",
          "model_name": "OutputModel",
          "model_module_version": "1.0.0",
          "state": {
            "_dom_classes": [],
            "_model_module": "@jupyter-widgets/output",
            "_model_module_version": "1.0.0",
            "_model_name": "OutputModel",
            "_view_count": null,
            "_view_module": "@jupyter-widgets/output",
            "_view_module_version": "1.0.0",
            "_view_name": "OutputView",
            "layout": "IPY_MODEL_fd4a081f1ac442ea8f9aae1b49f2a584",
            "msg_id": "",
            "outputs": [
              {
                "output_type": "stream",
                "name": "stdout",
                "text": [
                  "Charts:\n"
                ]
              },
              {
                "output_type": "display_data",
                "data": {
                  "text/plain": "<Figure size 640x480 with 0 Axes>"
                },
                "metadata": {}
              },
              {
                "output_type": "display_data",
                "data": {
                  "text/plain": "<Figure size 1000x800 with 1 Axes>",
                  "image/png": "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\n"
                },
                "metadata": {}
              }
            ]
          }
        },
        "f7d0431e2b37414c968da35d6325beea": {
          "model_module": "@jupyter-widgets/base",
          "model_name": "LayoutModel",
          "model_module_version": "1.2.0",
          "state": {
            "_model_module": "@jupyter-widgets/base",
            "_model_module_version": "1.2.0",
            "_model_name": "LayoutModel",
            "_view_count": null,
            "_view_module": "@jupyter-widgets/base",
            "_view_module_version": "1.2.0",
            "_view_name": "LayoutView",
            "align_content": null,
            "align_items": null,
            "align_self": null,
            "border": null,
            "bottom": null,
            "display": null,
            "flex": null,
            "flex_flow": null,
            "grid_area": null,
            "grid_auto_columns": null,
            "grid_auto_flow": null,
            "grid_auto_rows": null,
            "grid_column": null,
            "grid_gap": null,
            "grid_row": null,
            "grid_template_areas": null,
            "grid_template_columns": null,
            "grid_template_rows": null,
            "height": null,
            "justify_content": null,
            "justify_items": null,
            "left": null,
            "margin": null,
            "max_height": null,
            "max_width": null,
            "min_height": null,
            "min_width": null,
            "object_fit": null,
            "object_position": null,
            "order": null,
            "overflow": null,
            "overflow_x": null,
            "overflow_y": null,
            "padding": null,
            "right": null,
            "top": null,
            "visibility": null,
            "width": null
          }
        },
        "50695acd31804f2b8fd66f091da53957": {
          "model_module": "@jupyter-widgets/base",
          "model_name": "LayoutModel",
          "model_module_version": "1.2.0",
          "state": {
            "_model_module": "@jupyter-widgets/base",
            "_model_module_version": "1.2.0",
            "_model_name": "LayoutModel",
            "_view_count": null,
            "_view_module": "@jupyter-widgets/base",
            "_view_module_version": "1.2.0",
            "_view_name": "LayoutView",
            "align_content": null,
            "align_items": null,
            "align_self": null,
            "border": null,
            "bottom": null,
            "display": null,
            "flex": null,
            "flex_flow": null,
            "grid_area": null,
            "grid_auto_columns": null,
            "grid_auto_flow": null,
            "grid_auto_rows": null,
            "grid_column": null,
            "grid_gap": null,
            "grid_row": null,
            "grid_template_areas": null,
            "grid_template_columns": null,
            "grid_template_rows": null,
            "height": null,
            "justify_content": null,
            "justify_items": null,
            "left": null,
            "margin": null,
            "max_height": null,
            "max_width": null,
            "min_height": null,
            "min_width": null,
            "object_fit": null,
            "object_position": null,
            "order": null,
            "overflow": null,
            "overflow_x": null,
            "overflow_y": null,
            "padding": null,
            "right": null,
            "top": null,
            "visibility": null,
            "width": null
          }
        },
        "64f1dd229e6946869435bcabe5dea8c5": {
          "model_module": "@jupyter-widgets/base",
          "model_name": "LayoutModel",
          "model_module_version": "1.2.0",
          "state": {
            "_model_module": "@jupyter-widgets/base",
            "_model_module_version": "1.2.0",
            "_model_name": "LayoutModel",
            "_view_count": null,
            "_view_module": "@jupyter-widgets/base",
            "_view_module_version": "1.2.0",
            "_view_name": "LayoutView",
            "align_content": null,
            "align_items": null,
            "align_self": null,
            "border": null,
            "bottom": null,
            "display": null,
            "flex": null,
            "flex_flow": null,
            "grid_area": null,
            "grid_auto_columns": null,
            "grid_auto_flow": null,
            "grid_auto_rows": null,
            "grid_column": null,
            "grid_gap": null,
            "grid_row": null,
            "grid_template_areas": null,
            "grid_template_columns": null,
            "grid_template_rows": null,
            "height": null,
            "justify_content": null,
            "justify_items": null,
            "left": null,
            "margin": null,
            "max_height": null,
            "max_width": null,
            "min_height": null,
            "min_width": null,
            "object_fit": null,
            "object_position": null,
            "order": null,
            "overflow": null,
            "overflow_x": null,
            "overflow_y": null,
            "padding": null,
            "right": null,
            "top": null,
            "visibility": null,
            "width": null
          }
        },
        "fd4a081f1ac442ea8f9aae1b49f2a584": {
          "model_module": "@jupyter-widgets/base",
          "model_name": "LayoutModel",
          "model_module_version": "1.2.0",
          "state": {
            "_model_module": "@jupyter-widgets/base",
            "_model_module_version": "1.2.0",
            "_model_name": "LayoutModel",
            "_view_count": null,
            "_view_module": "@jupyter-widgets/base",
            "_view_module_version": "1.2.0",
            "_view_name": "LayoutView",
            "align_content": null,
            "align_items": null,
            "align_self": null,
            "border": null,
            "bottom": null,
            "display": null,
            "flex": null,
            "flex_flow": null,
            "grid_area": null,
            "grid_auto_columns": null,
            "grid_auto_flow": null,
            "grid_auto_rows": null,
            "grid_column": null,
            "grid_gap": null,
            "grid_row": null,
            "grid_template_areas": null,
            "grid_template_columns": null,
            "grid_template_rows": null,
            "height": null,
            "justify_content": null,
            "justify_items": null,
            "left": null,
            "margin": null,
            "max_height": null,
            "max_width": null,
            "min_height": null,
            "min_width": null,
            "object_fit": null,
            "object_position": null,
            "order": null,
            "overflow": null,
            "overflow_x": null,
            "overflow_y": null,
            "padding": null,
            "right": null,
            "top": null,
            "visibility": null,
            "width": null
          }
        }
      }
    }
  },
  "cells": [
    {
      "cell_type": "markdown",
      "metadata": {
        "id": "view-in-github",
        "colab_type": "text"
      },
      "source": [
        "<a href=\"https://colab.research.google.com/github/NahlaAboromi/ANAN/blob/main/targil4.ipynb\" target=\"_parent\"><img src=\"https://colab.research.google.com/assets/colab-badge.svg\" alt=\"Open In Colab\"/></a>"
      ]
    },
    {
      "cell_type": "code",
      "execution_count": 11,
      "metadata": {
        "colab": {
          "base_uri": "https://localhost:8080/",
          "height": 815,
          "referenced_widgets": [
            "728254521c064a899c30086d8df2550b",
            "2326f2f19a494744aae60ea3f8003ad2",
            "09368365125a4b1b88b929f628ce35e7",
            "8fcba0cee9c14627b5e44fc4227fdfb1",
            "f7d0431e2b37414c968da35d6325beea",
            "50695acd31804f2b8fd66f091da53957",
            "64f1dd229e6946869435bcabe5dea8c5",
            "fd4a081f1ac442ea8f9aae1b49f2a584"
          ]
        },
        "id": "CRexv0K3_E11",
        "outputId": "e7cee2c5-756a-4bed-c1f3-f1acd228404e"
      },
      "outputs": [
        {
          "output_type": "display_data",
          "data": {
            "text/plain": [
              "Tab(children=(Output(), Output(), Output()), _titles={'0': 'Tab 1: Data Overview', '1': 'Tab 2: Raw Data', '2'…"
            ],
            "application/vnd.jupyter.widget-view+json": {
              "version_major": 2,
              "version_minor": 0,
              "model_id": "728254521c064a899c30086d8df2550b"
            }
          },
          "metadata": {}
        }
      ],
      "source": [
        "import pandas as pd\n",
        "import ipywidgets as widgets\n",
        "from IPython.display import display\n",
        "from plotly.offline import iplot\n",
        "import plotly.graph_objs as go\n",
        "import matplotlib.pyplot as plt\n",
        "import numpy as np\n",
        "import seaborn as sns\n",
        "import plotly.express as px\n",
        "import requests\n",
        "import pandas as pd\n",
        "import matplotlib.pyplot as plt\n",
        "\n",
        "\n",
        "# Create a simple DataFrame\n",
        "url = 'https://data.gov.il/api/3/action/datastore_search?resource_id=053cea08-09bc-40ec-8f7a-156f0677aff3'\n",
        "response = requests.get(url)\n",
        "data = response.json()\n",
        "\n",
        "# שלב 2: הפיכת הנתונים ל-DataFrame\n",
        "records = data['result']['records']\n",
        "df = pd.DataFrame(records)\n",
        "\n",
        "# הגדרה להצגת כל העמודות\n",
        "pd.set_option(\"display.max_columns\", None)\n",
        "\n",
        "\n",
        "# Tab 1: Data Overview\n",
        "tab1_content = widgets.Output()\n",
        "with tab1_content:\n",
        "    print(\"Data Overview:\")\n",
        "    display(df.describe())  # Summary statistics\n",
        "\n",
        "# Tab 2: Raw Data\n",
        "tab2_content = widgets.Output()\n",
        "with tab2_content:\n",
        "    print(\"Raw Data:\")\n",
        "    display(df)  # Full DataFrame\n",
        "# Tab 3: Charts\n",
        "tab3_content = widgets.Output()\n",
        "with tab3_content:\n",
        "    print(\"Charts:\")\n",
        "    plt.clf()  # Clear the current figure\n",
        "    plt.figure(figsize=(10, 8))  # Increased figure size to accommodate labels\n",
        "    side_length = 10\n",
        "    data = 5 + np.random.randn(side_length, side_length)\n",
        "    data += np.arange(side_length)\n",
        "    data += np.reshape(np.arange(side_length), (side_length, 1))\n",
        "\n",
        "\n",
        "\n",
        "\n",
        "      # המרת שנת ייצור למספרים\n",
        "    df['shnat_yitzur'] = pd.to_numeric(df['shnat_yitzur'], errors='coerce')\n",
        "\n",
        "    # ספירת כמות רכבים לפי שנת ייצור\n",
        "    year_counts = df['shnat_yitzur'].value_counts().sort_index()\n",
        "\n",
        "    # שמות השנים\n",
        "    years = year_counts.index.astype(str).tolist()\n",
        "\n",
        "    # כמות הרכבים שיוצרו בכל שנה\n",
        "    count = year_counts.values\n",
        "\n",
        "    # יצירת הגרף\n",
        "    plt.figure(figsize=(10, 6))\n",
        "    plt.bar(years, count)\n",
        "    plt.xticks(rotation=45)\n",
        "    plt.title(\"num ber year\")\n",
        "    plt.xlabel(\"year\")\n",
        "    plt.ylabel(\"count\")\n",
        "    plt.tight_layout()\n",
        "    plt.show()\n",
        "    plt.close()\n",
        "\n",
        "# Create Tabs\n",
        "tabs = widgets.Tab(children=[tab1_content, tab2_content,tab3_content])\n",
        "tabs.set_title(0, 'Tab 1: Data Overview')\n",
        "tabs.set_title(1, 'Tab 2: Raw Data')\n",
        "tabs.set_title(2, 'Tab 3: Charts')\n",
        "\n",
        "\n",
        "\n",
        "# Display Tabs\n",
        "display(tabs)"
      ]
    }
  ]
}